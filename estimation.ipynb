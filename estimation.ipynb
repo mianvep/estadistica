{
 "cells": [
  {
   "cell_type": "code",
   "execution_count": 2,
   "metadata": {
    "collapsed": true,
    "ExecuteTime": {
     "end_time": "2023-07-27T01:38:37.998159500Z",
     "start_time": "2023-07-27T01:38:35.671044900Z"
    }
   },
   "outputs": [],
   "source": [
    "import pandas as pd\n",
    "import plotly.express as px\n",
    "import probscale\n",
    "import matplotlib.pyplot as plt"
   ]
  },
  {
   "cell_type": "code",
   "execution_count": 4,
   "outputs": [
    {
     "data": {
      "text/plain": "      Este (m)  Norte (m)  Cota (m)  CuT (%)  Fe (%)  Mo (%)  As (%)  Zn (%)  \\\n0          2.9      110.2    2021.3     1.67    2.23   0.013   0.009   0.016   \n1         85.3       71.2    1971.1     1.56    4.24   0.014   0.020   0.027   \n2         86.7      142.3    1940.6     0.59    1.20   0.008   0.008   0.173   \n3         97.0      172.9    2003.9     1.15    1.59   0.007   0.008   0.052   \n4        145.3      185.2    2005.6     0.83    1.34   0.007   0.013   0.092   \n...        ...        ...       ...      ...     ...     ...     ...     ...   \n1107    3697.8     1203.3    2201.8     0.52    3.27   0.004   0.033   0.019   \n1108    3698.1      879.7    2038.5     0.47    1.90   0.007   0.006   0.095   \n1109    3740.9     1151.5    2149.7     0.59    2.87   0.004   0.008   0.060   \n1110    3750.1     1002.7    2200.6     1.27    2.08   0.012   0.006   0.010   \n1111    3836.2      992.3    2167.7     0.59    1.61   0.004   0.006   0.086   \n\n      CuS (%)  RecCu (%)  CuCo (%)  Wi (kwh/ton)       Alteración  \\\n0        0.17       76.0      33.1         15.61  Cuarzo-sericita   \n1        0.17       89.3      26.4         13.30  Cuarzo-sericita   \n2        0.07       53.8      28.9         14.44  Cuarzo-sericita   \n3        0.07       79.6      33.8         17.70  Cuarzo-sericita   \n4        0.13       76.1      30.7         15.43  Cuarzo-sericita   \n...       ...        ...       ...           ...              ...   \n1107     0.08       82.4      23.3         15.80  Cuarzo-sericita   \n1108     0.04       73.0      25.1         13.14  Cuarzo-sericita   \n1109     0.10       78.1      24.9         14.57  Cuarzo-sericita   \n1110     0.07       88.8      29.5         16.62         Potásico   \n1111     0.04       81.5      27.1         14.21  Cuarzo-sericita   \n\n     Mineralización  Dominio  \n0       Alta pirita        3  \n1       Alta pirita        3  \n2       Alta pirita        3  \n3       Alta pirita        3  \n4       Alta pirita        3  \n...             ...      ...  \n1107    Alta pirita        3  \n1108    Alta pirita        3  \n1109    Alta pirita        3  \n1110    Alta pirita        3  \n1111    Alta pirita        3  \n\n[1112 rows x 15 columns]",
      "text/html": "<div>\n<style scoped>\n    .dataframe tbody tr th:only-of-type {\n        vertical-align: middle;\n    }\n\n    .dataframe tbody tr th {\n        vertical-align: top;\n    }\n\n    .dataframe thead th {\n        text-align: right;\n    }\n</style>\n<table border=\"1\" class=\"dataframe\">\n  <thead>\n    <tr style=\"text-align: right;\">\n      <th></th>\n      <th>Este (m)</th>\n      <th>Norte (m)</th>\n      <th>Cota (m)</th>\n      <th>CuT (%)</th>\n      <th>Fe (%)</th>\n      <th>Mo (%)</th>\n      <th>As (%)</th>\n      <th>Zn (%)</th>\n      <th>CuS (%)</th>\n      <th>RecCu (%)</th>\n      <th>CuCo (%)</th>\n      <th>Wi (kwh/ton)</th>\n      <th>Alteración</th>\n      <th>Mineralización</th>\n      <th>Dominio</th>\n    </tr>\n  </thead>\n  <tbody>\n    <tr>\n      <th>0</th>\n      <td>2.9</td>\n      <td>110.2</td>\n      <td>2021.3</td>\n      <td>1.67</td>\n      <td>2.23</td>\n      <td>0.013</td>\n      <td>0.009</td>\n      <td>0.016</td>\n      <td>0.17</td>\n      <td>76.0</td>\n      <td>33.1</td>\n      <td>15.61</td>\n      <td>Cuarzo-sericita</td>\n      <td>Alta pirita</td>\n      <td>3</td>\n    </tr>\n    <tr>\n      <th>1</th>\n      <td>85.3</td>\n      <td>71.2</td>\n      <td>1971.1</td>\n      <td>1.56</td>\n      <td>4.24</td>\n      <td>0.014</td>\n      <td>0.020</td>\n      <td>0.027</td>\n      <td>0.17</td>\n      <td>89.3</td>\n      <td>26.4</td>\n      <td>13.30</td>\n      <td>Cuarzo-sericita</td>\n      <td>Alta pirita</td>\n      <td>3</td>\n    </tr>\n    <tr>\n      <th>2</th>\n      <td>86.7</td>\n      <td>142.3</td>\n      <td>1940.6</td>\n      <td>0.59</td>\n      <td>1.20</td>\n      <td>0.008</td>\n      <td>0.008</td>\n      <td>0.173</td>\n      <td>0.07</td>\n      <td>53.8</td>\n      <td>28.9</td>\n      <td>14.44</td>\n      <td>Cuarzo-sericita</td>\n      <td>Alta pirita</td>\n      <td>3</td>\n    </tr>\n    <tr>\n      <th>3</th>\n      <td>97.0</td>\n      <td>172.9</td>\n      <td>2003.9</td>\n      <td>1.15</td>\n      <td>1.59</td>\n      <td>0.007</td>\n      <td>0.008</td>\n      <td>0.052</td>\n      <td>0.07</td>\n      <td>79.6</td>\n      <td>33.8</td>\n      <td>17.70</td>\n      <td>Cuarzo-sericita</td>\n      <td>Alta pirita</td>\n      <td>3</td>\n    </tr>\n    <tr>\n      <th>4</th>\n      <td>145.3</td>\n      <td>185.2</td>\n      <td>2005.6</td>\n      <td>0.83</td>\n      <td>1.34</td>\n      <td>0.007</td>\n      <td>0.013</td>\n      <td>0.092</td>\n      <td>0.13</td>\n      <td>76.1</td>\n      <td>30.7</td>\n      <td>15.43</td>\n      <td>Cuarzo-sericita</td>\n      <td>Alta pirita</td>\n      <td>3</td>\n    </tr>\n    <tr>\n      <th>...</th>\n      <td>...</td>\n      <td>...</td>\n      <td>...</td>\n      <td>...</td>\n      <td>...</td>\n      <td>...</td>\n      <td>...</td>\n      <td>...</td>\n      <td>...</td>\n      <td>...</td>\n      <td>...</td>\n      <td>...</td>\n      <td>...</td>\n      <td>...</td>\n      <td>...</td>\n    </tr>\n    <tr>\n      <th>1107</th>\n      <td>3697.8</td>\n      <td>1203.3</td>\n      <td>2201.8</td>\n      <td>0.52</td>\n      <td>3.27</td>\n      <td>0.004</td>\n      <td>0.033</td>\n      <td>0.019</td>\n      <td>0.08</td>\n      <td>82.4</td>\n      <td>23.3</td>\n      <td>15.80</td>\n      <td>Cuarzo-sericita</td>\n      <td>Alta pirita</td>\n      <td>3</td>\n    </tr>\n    <tr>\n      <th>1108</th>\n      <td>3698.1</td>\n      <td>879.7</td>\n      <td>2038.5</td>\n      <td>0.47</td>\n      <td>1.90</td>\n      <td>0.007</td>\n      <td>0.006</td>\n      <td>0.095</td>\n      <td>0.04</td>\n      <td>73.0</td>\n      <td>25.1</td>\n      <td>13.14</td>\n      <td>Cuarzo-sericita</td>\n      <td>Alta pirita</td>\n      <td>3</td>\n    </tr>\n    <tr>\n      <th>1109</th>\n      <td>3740.9</td>\n      <td>1151.5</td>\n      <td>2149.7</td>\n      <td>0.59</td>\n      <td>2.87</td>\n      <td>0.004</td>\n      <td>0.008</td>\n      <td>0.060</td>\n      <td>0.10</td>\n      <td>78.1</td>\n      <td>24.9</td>\n      <td>14.57</td>\n      <td>Cuarzo-sericita</td>\n      <td>Alta pirita</td>\n      <td>3</td>\n    </tr>\n    <tr>\n      <th>1110</th>\n      <td>3750.1</td>\n      <td>1002.7</td>\n      <td>2200.6</td>\n      <td>1.27</td>\n      <td>2.08</td>\n      <td>0.012</td>\n      <td>0.006</td>\n      <td>0.010</td>\n      <td>0.07</td>\n      <td>88.8</td>\n      <td>29.5</td>\n      <td>16.62</td>\n      <td>Potásico</td>\n      <td>Alta pirita</td>\n      <td>3</td>\n    </tr>\n    <tr>\n      <th>1111</th>\n      <td>3836.2</td>\n      <td>992.3</td>\n      <td>2167.7</td>\n      <td>0.59</td>\n      <td>1.61</td>\n      <td>0.004</td>\n      <td>0.006</td>\n      <td>0.086</td>\n      <td>0.04</td>\n      <td>81.5</td>\n      <td>27.1</td>\n      <td>14.21</td>\n      <td>Cuarzo-sericita</td>\n      <td>Alta pirita</td>\n      <td>3</td>\n    </tr>\n  </tbody>\n</table>\n<p>1112 rows × 15 columns</p>\n</div>"
     },
     "execution_count": 4,
     "metadata": {},
     "output_type": "execute_result"
    }
   ],
   "source": [
    "data_frame = pd.read_csv('dominios.csv', sep=';')\n",
    "data_frame"
   ],
   "metadata": {
    "collapsed": false,
    "ExecuteTime": {
     "end_time": "2023-07-27T01:40:01.778042800Z",
     "start_time": "2023-07-27T01:40:01.704043600Z"
    }
   }
  },
  {
   "cell_type": "markdown",
   "source": [
    "## Creación del UG"
   ],
   "metadata": {
    "collapsed": false
   }
  },
  {
   "cell_type": "code",
   "execution_count": 5,
   "outputs": [
    {
     "data": {
      "text/plain": "      Este (m)  Norte (m)  Cota (m)  CuT (%)  Fe (%)  Mo (%)  As (%)  Zn (%)  \\\n0          2.9      110.2    2021.3     1.67    2.23   0.013   0.009   0.016   \n1         85.3       71.2    1971.1     1.56    4.24   0.014   0.020   0.027   \n2         86.7      142.3    1940.6     0.59    1.20   0.008   0.008   0.173   \n3         97.0      172.9    2003.9     1.15    1.59   0.007   0.008   0.052   \n4        145.3      185.2    2005.6     0.83    1.34   0.007   0.013   0.092   \n...        ...        ...       ...      ...     ...     ...     ...     ...   \n1107    3697.8     1203.3    2201.8     0.52    3.27   0.004   0.033   0.019   \n1108    3698.1      879.7    2038.5     0.47    1.90   0.007   0.006   0.095   \n1109    3740.9     1151.5    2149.7     0.59    2.87   0.004   0.008   0.060   \n1110    3750.1     1002.7    2200.6     1.27    2.08   0.012   0.006   0.010   \n1111    3836.2      992.3    2167.7     0.59    1.61   0.004   0.006   0.086   \n\n      CuS (%)  RecCu (%)  CuCo (%)  Wi (kwh/ton)       Alteración  \\\n0        0.17       76.0      33.1         15.61  Cuarzo-sericita   \n1        0.17       89.3      26.4         13.30  Cuarzo-sericita   \n2        0.07       53.8      28.9         14.44  Cuarzo-sericita   \n3        0.07       79.6      33.8         17.70  Cuarzo-sericita   \n4        0.13       76.1      30.7         15.43  Cuarzo-sericita   \n...       ...        ...       ...           ...              ...   \n1107     0.08       82.4      23.3         15.80  Cuarzo-sericita   \n1108     0.04       73.0      25.1         13.14  Cuarzo-sericita   \n1109     0.10       78.1      24.9         14.57  Cuarzo-sericita   \n1110     0.07       88.8      29.5         16.62         Potásico   \n1111     0.04       81.5      27.1         14.21  Cuarzo-sericita   \n\n     Mineralización  Dominio  ug  \n0       Alta pirita        3 -99  \n1       Alta pirita        3 -99  \n2       Alta pirita        3 -99  \n3       Alta pirita        3 -99  \n4       Alta pirita        3 -99  \n...             ...      ...  ..  \n1107    Alta pirita        3 -99  \n1108    Alta pirita        3 -99  \n1109    Alta pirita        3 -99  \n1110    Alta pirita        3 -99  \n1111    Alta pirita        3 -99  \n\n[1112 rows x 16 columns]",
      "text/html": "<div>\n<style scoped>\n    .dataframe tbody tr th:only-of-type {\n        vertical-align: middle;\n    }\n\n    .dataframe tbody tr th {\n        vertical-align: top;\n    }\n\n    .dataframe thead th {\n        text-align: right;\n    }\n</style>\n<table border=\"1\" class=\"dataframe\">\n  <thead>\n    <tr style=\"text-align: right;\">\n      <th></th>\n      <th>Este (m)</th>\n      <th>Norte (m)</th>\n      <th>Cota (m)</th>\n      <th>CuT (%)</th>\n      <th>Fe (%)</th>\n      <th>Mo (%)</th>\n      <th>As (%)</th>\n      <th>Zn (%)</th>\n      <th>CuS (%)</th>\n      <th>RecCu (%)</th>\n      <th>CuCo (%)</th>\n      <th>Wi (kwh/ton)</th>\n      <th>Alteración</th>\n      <th>Mineralización</th>\n      <th>Dominio</th>\n      <th>ug</th>\n    </tr>\n  </thead>\n  <tbody>\n    <tr>\n      <th>0</th>\n      <td>2.9</td>\n      <td>110.2</td>\n      <td>2021.3</td>\n      <td>1.67</td>\n      <td>2.23</td>\n      <td>0.013</td>\n      <td>0.009</td>\n      <td>0.016</td>\n      <td>0.17</td>\n      <td>76.0</td>\n      <td>33.1</td>\n      <td>15.61</td>\n      <td>Cuarzo-sericita</td>\n      <td>Alta pirita</td>\n      <td>3</td>\n      <td>-99</td>\n    </tr>\n    <tr>\n      <th>1</th>\n      <td>85.3</td>\n      <td>71.2</td>\n      <td>1971.1</td>\n      <td>1.56</td>\n      <td>4.24</td>\n      <td>0.014</td>\n      <td>0.020</td>\n      <td>0.027</td>\n      <td>0.17</td>\n      <td>89.3</td>\n      <td>26.4</td>\n      <td>13.30</td>\n      <td>Cuarzo-sericita</td>\n      <td>Alta pirita</td>\n      <td>3</td>\n      <td>-99</td>\n    </tr>\n    <tr>\n      <th>2</th>\n      <td>86.7</td>\n      <td>142.3</td>\n      <td>1940.6</td>\n      <td>0.59</td>\n      <td>1.20</td>\n      <td>0.008</td>\n      <td>0.008</td>\n      <td>0.173</td>\n      <td>0.07</td>\n      <td>53.8</td>\n      <td>28.9</td>\n      <td>14.44</td>\n      <td>Cuarzo-sericita</td>\n      <td>Alta pirita</td>\n      <td>3</td>\n      <td>-99</td>\n    </tr>\n    <tr>\n      <th>3</th>\n      <td>97.0</td>\n      <td>172.9</td>\n      <td>2003.9</td>\n      <td>1.15</td>\n      <td>1.59</td>\n      <td>0.007</td>\n      <td>0.008</td>\n      <td>0.052</td>\n      <td>0.07</td>\n      <td>79.6</td>\n      <td>33.8</td>\n      <td>17.70</td>\n      <td>Cuarzo-sericita</td>\n      <td>Alta pirita</td>\n      <td>3</td>\n      <td>-99</td>\n    </tr>\n    <tr>\n      <th>4</th>\n      <td>145.3</td>\n      <td>185.2</td>\n      <td>2005.6</td>\n      <td>0.83</td>\n      <td>1.34</td>\n      <td>0.007</td>\n      <td>0.013</td>\n      <td>0.092</td>\n      <td>0.13</td>\n      <td>76.1</td>\n      <td>30.7</td>\n      <td>15.43</td>\n      <td>Cuarzo-sericita</td>\n      <td>Alta pirita</td>\n      <td>3</td>\n      <td>-99</td>\n    </tr>\n    <tr>\n      <th>...</th>\n      <td>...</td>\n      <td>...</td>\n      <td>...</td>\n      <td>...</td>\n      <td>...</td>\n      <td>...</td>\n      <td>...</td>\n      <td>...</td>\n      <td>...</td>\n      <td>...</td>\n      <td>...</td>\n      <td>...</td>\n      <td>...</td>\n      <td>...</td>\n      <td>...</td>\n      <td>...</td>\n    </tr>\n    <tr>\n      <th>1107</th>\n      <td>3697.8</td>\n      <td>1203.3</td>\n      <td>2201.8</td>\n      <td>0.52</td>\n      <td>3.27</td>\n      <td>0.004</td>\n      <td>0.033</td>\n      <td>0.019</td>\n      <td>0.08</td>\n      <td>82.4</td>\n      <td>23.3</td>\n      <td>15.80</td>\n      <td>Cuarzo-sericita</td>\n      <td>Alta pirita</td>\n      <td>3</td>\n      <td>-99</td>\n    </tr>\n    <tr>\n      <th>1108</th>\n      <td>3698.1</td>\n      <td>879.7</td>\n      <td>2038.5</td>\n      <td>0.47</td>\n      <td>1.90</td>\n      <td>0.007</td>\n      <td>0.006</td>\n      <td>0.095</td>\n      <td>0.04</td>\n      <td>73.0</td>\n      <td>25.1</td>\n      <td>13.14</td>\n      <td>Cuarzo-sericita</td>\n      <td>Alta pirita</td>\n      <td>3</td>\n      <td>-99</td>\n    </tr>\n    <tr>\n      <th>1109</th>\n      <td>3740.9</td>\n      <td>1151.5</td>\n      <td>2149.7</td>\n      <td>0.59</td>\n      <td>2.87</td>\n      <td>0.004</td>\n      <td>0.008</td>\n      <td>0.060</td>\n      <td>0.10</td>\n      <td>78.1</td>\n      <td>24.9</td>\n      <td>14.57</td>\n      <td>Cuarzo-sericita</td>\n      <td>Alta pirita</td>\n      <td>3</td>\n      <td>-99</td>\n    </tr>\n    <tr>\n      <th>1110</th>\n      <td>3750.1</td>\n      <td>1002.7</td>\n      <td>2200.6</td>\n      <td>1.27</td>\n      <td>2.08</td>\n      <td>0.012</td>\n      <td>0.006</td>\n      <td>0.010</td>\n      <td>0.07</td>\n      <td>88.8</td>\n      <td>29.5</td>\n      <td>16.62</td>\n      <td>Potásico</td>\n      <td>Alta pirita</td>\n      <td>3</td>\n      <td>-99</td>\n    </tr>\n    <tr>\n      <th>1111</th>\n      <td>3836.2</td>\n      <td>992.3</td>\n      <td>2167.7</td>\n      <td>0.59</td>\n      <td>1.61</td>\n      <td>0.004</td>\n      <td>0.006</td>\n      <td>0.086</td>\n      <td>0.04</td>\n      <td>81.5</td>\n      <td>27.1</td>\n      <td>14.21</td>\n      <td>Cuarzo-sericita</td>\n      <td>Alta pirita</td>\n      <td>3</td>\n      <td>-99</td>\n    </tr>\n  </tbody>\n</table>\n<p>1112 rows × 16 columns</p>\n</div>"
     },
     "execution_count": 5,
     "metadata": {},
     "output_type": "execute_result"
    }
   ],
   "source": [
    "data_frame['ug'] = -99\n",
    "data_frame"
   ],
   "metadata": {
    "collapsed": false,
    "ExecuteTime": {
     "end_time": "2023-07-27T01:40:14.743145800Z",
     "start_time": "2023-07-27T01:40:14.723251700Z"
    }
   }
  },
  {
   "cell_type": "markdown",
   "source": [
    "# La data no contaba con dominio"
   ],
   "metadata": {
    "collapsed": false
   }
  },
  {
   "cell_type": "code",
   "execution_count": null,
   "outputs": [],
   "source": [
    "\n",
    "\n"
   ],
   "metadata": {
    "collapsed": false
   }
  }
 ],
 "metadata": {
  "kernelspec": {
   "display_name": "Python 3",
   "language": "python",
   "name": "python3"
  },
  "language_info": {
   "codemirror_mode": {
    "name": "ipython",
    "version": 2
   },
   "file_extension": ".py",
   "mimetype": "text/x-python",
   "name": "python",
   "nbconvert_exporter": "python",
   "pygments_lexer": "ipython2",
   "version": "2.7.6"
  }
 },
 "nbformat": 4,
 "nbformat_minor": 0
}
